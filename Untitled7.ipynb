{
  "nbformat": 4,
  "nbformat_minor": 0,
  "metadata": {
    "colab": {
      "provenance": [],
      "authorship_tag": "ABX9TyMOR7ggtDOspaVhKs9DtUME",
      "include_colab_link": true
    },
    "kernelspec": {
      "name": "python3",
      "display_name": "Python 3"
    },
    "language_info": {
      "name": "python"
    }
  },
  "cells": [
    {
      "cell_type": "markdown",
      "metadata": {
        "id": "view-in-github",
        "colab_type": "text"
      },
      "source": [
        "<a href=\"https://colab.research.google.com/github/momehmandoost/twitter_scrapper/blob/main/Untitled7.ipynb\" target=\"_parent\"><img src=\"https://colab.research.google.com/assets/colab-badge.svg\" alt=\"Open In Colab\"/></a>"
      ]
    },
    {
      "cell_type": "code",
      "execution_count": null,
      "metadata": {
        "id": "0GoLC_J2KrCl"
      },
      "outputs": [],
      "source": [
        "import pandas as pd\n",
        "from tqdm.notebook import tqdm\n",
        "import snscrape.modules.twitter as sntwitter"
      ]
    },
    {
      "cell_type": "code",
      "source": [
        "pip install snscrape"
      ],
      "metadata": {
        "colab": {
          "base_uri": "https://localhost:8080/"
        },
        "id": "AH3vqy4qKwbJ",
        "outputId": "91af2954-7b70-46f6-d8e6-49b5cf7f177b"
      },
      "execution_count": null,
      "outputs": [
        {
          "output_type": "stream",
          "name": "stdout",
          "text": [
            "Looking in indexes: https://pypi.org/simple, https://us-python.pkg.dev/colab-wheels/public/simple/\n",
            "Collecting snscrape\n",
            "  Downloading snscrape-0.6.2.20230320-py3-none-any.whl (71 kB)\n",
            "\u001b[2K     \u001b[90m━━━━━━━━━━━━━━━━━━━━━━━━━━━━━━━━━━━━━━━━\u001b[0m \u001b[32m71.8/71.8 KB\u001b[0m \u001b[31m5.5 MB/s\u001b[0m eta \u001b[36m0:00:00\u001b[0m\n",
            "\u001b[?25hRequirement already satisfied: lxml in /usr/local/lib/python3.9/dist-packages (from snscrape) (4.9.2)\n",
            "Requirement already satisfied: filelock in /usr/local/lib/python3.9/dist-packages (from snscrape) (3.10.7)\n",
            "Requirement already satisfied: beautifulsoup4 in /usr/local/lib/python3.9/dist-packages (from snscrape) (4.11.2)\n",
            "Requirement already satisfied: requests[socks] in /usr/local/lib/python3.9/dist-packages (from snscrape) (2.27.1)\n",
            "Requirement already satisfied: soupsieve>1.2 in /usr/local/lib/python3.9/dist-packages (from beautifulsoup4->snscrape) (2.4)\n",
            "Requirement already satisfied: charset-normalizer~=2.0.0 in /usr/local/lib/python3.9/dist-packages (from requests[socks]->snscrape) (2.0.12)\n",
            "Requirement already satisfied: idna<4,>=2.5 in /usr/local/lib/python3.9/dist-packages (from requests[socks]->snscrape) (3.4)\n",
            "Requirement already satisfied: urllib3<1.27,>=1.21.1 in /usr/local/lib/python3.9/dist-packages (from requests[socks]->snscrape) (1.26.15)\n",
            "Requirement already satisfied: certifi>=2017.4.17 in /usr/local/lib/python3.9/dist-packages (from requests[socks]->snscrape) (2022.12.7)\n",
            "Requirement already satisfied: PySocks!=1.5.7,>=1.5.6 in /usr/local/lib/python3.9/dist-packages (from requests[socks]->snscrape) (1.7.1)\n",
            "Installing collected packages: snscrape\n",
            "Successfully installed snscrape-0.6.2.20230320\n"
          ]
        }
      ]
    },
    {
      "cell_type": "code",
      "source": [
        "tweet"
      ],
      "metadata": {
        "colab": {
          "base_uri": "https://localhost:8080/"
        },
        "id": "4a3vyAyIK9Zo",
        "outputId": "68b2e18c-7186-4eb6-f11d-7d3b850f3e9c"
      },
      "execution_count": null,
      "outputs": [
        {
          "output_type": "execute_result",
          "data": {
            "text/plain": [
              "Tweet(url='https://twitter.com/We_R_D_Street/status/1638220590573301766', date=datetime.datetime(2023, 3, 21, 16, 46, 40, tzinfo=datetime.timezone.utc), rawContent='زیرا که مردگان این سال عاشق\\u200cترین زندگان بوده\\u200cاند.\\n\\n#مهسا_امینی \\n#اتحاد_رمز_پیروزی \\n#زن_زندگی_آزادی\\n#ali_karimi\\n#alikarimi_ak8 https://t.co/9cnuiduBbr', renderedContent='زیرا که مردگان این سال عاشق\\u200cترین زندگان بوده\\u200cاند.\\n\\n#مهسا_امینی \\n#اتحاد_رمز_پیروزی \\n#زن_زندگی_آزادی\\n#ali_karimi\\n#alikarimi_ak8 https://t.co/9cnuiduBbr', id=1638220590573301766, user=User(username='We_R_D_Street', id=1597482876744110080, displayname='We_R_D_Street ما خیابان هستیم', rawDescription='فقط برنداز هستیم \\nحتی در زمان برنده شدن، برای آینده برنامه ریزی کنید\\n#اصغر_نحوی\\u200cپور\\nآخرین سه کلمه\\u200cای که بر زبانش جاری شد؛ «جانم فدای ایران»', renderedDescription='فقط برنداز هستیم \\nحتی در زمان برنده شدن، برای آینده برنامه ریزی کنید\\n#اصغر_نحوی\\u200cپور\\nآخرین سه کلمه\\u200cای که بر زبانش جاری شد؛ «جانم فدای ایران»', descriptionLinks=None, verified=False, created=datetime.datetime(2022, 11, 29, 6, 50, 4, tzinfo=datetime.timezone.utc), followersCount=106, friendsCount=284, statusesCount=1106, favouritesCount=2398, listedCount=0, mediaCount=219, location=' خیابان انقلاب در حال حاضر ', protected=False, link=None, profileImageUrl='https://pbs.twimg.com/profile_images/1631734025651101696/dh3x9C85_normal.jpg', profileBannerUrl='https://pbs.twimg.com/profile_banners/1597482876744110080/1677870683', label=None), replyCount=0, retweetCount=0, likeCount=0, quoteCount=0, conversationId=1638220590573301766, lang='fa', source='<a href=\"https://mobile.twitter.com\" rel=\"nofollow\">Twitter Web App</a>', sourceUrl='https://mobile.twitter.com', sourceLabel='Twitter Web App', links=None, media=[Photo(previewUrl='https://pbs.twimg.com/media/Frwg6UqaEAAy0Ed?format=jpg&name=small', fullUrl='https://pbs.twimg.com/media/Frwg6UqaEAAy0Ed?format=jpg&name=orig', altText=None)], retweetedTweet=None, quotedTweet=Tweet(url='https://twitter.com/alikarimi_ak8/status/1638213912137986048', date=datetime.datetime(2023, 3, 21, 16, 20, 7, tzinfo=datetime.timezone.utc), rawContent='به قول شاملو:\\nدر خلوتِ روشن با تو گریسته\\u200cام،\\nبرای خاطر زندگان و در گورستانِ تاریک با تو خوانده\\u200cام زیباترین سرودها را.\\nزیرا که مردگان این سال عاشق\\u200cترین زندگان بوده\\u200cاند.\\n\\n#مهسا_امینی \\n#اتحاد_رمز_پیروزی \\n#زن_زندگی_آزادی', renderedContent='به قول شاملو:\\nدر خلوتِ روشن با تو گریسته\\u200cام،\\nبرای خاطر زندگان و در گورستانِ تاریک با تو خوانده\\u200cام زیباترین سرودها را.\\nزیرا که مردگان این سال عاشق\\u200cترین زندگان بوده\\u200cاند.\\n\\n#مهسا_امینی \\n#اتحاد_رمز_پیروزی \\n#زن_زندگی_آزادی', id=1638213912137986048, user=User(username='alikarimi_ak8', id=945886639603310592, displayname='ali karimi', rawDescription='#دلسوز_وطن_اغتشاشگر_نیست', renderedDescription='#دلسوز_وطن_اغتشاشگر_نیست', descriptionLinks=None, verified=True, created=datetime.datetime(2017, 12, 27, 5, 18, 43, tzinfo=datetime.timezone.utc), followersCount=1729003, friendsCount=31, statusesCount=153, favouritesCount=34, listedCount=688, mediaCount=47, location='تهران،ایران', protected=False, link=TextLink(text='instagram.com/aliiiiiiiikari…', url='https://instagram.com/aliiiiiiiikarimi8', tcourl='https://t.co/JOFTSquoBu', indices=(0, 23)), profileImageUrl='https://pbs.twimg.com/profile_images/1526469339267866625/1B9GVkrM_normal.jpg', profileBannerUrl='https://pbs.twimg.com/profile_banners/945886639603310592/1674692182', label=None), replyCount=834, retweetCount=6074, likeCount=41690, quoteCount=60, conversationId=1638213912137986048, lang='fa', source='<a href=\"http://twitter.com/download/iphone\" rel=\"nofollow\">Twitter for iPhone</a>', sourceUrl='http://twitter.com/download/iphone', sourceLabel='Twitter for iPhone', links=None, media=None, retweetedTweet=None, quotedTweet=None, inReplyToTweetId=None, inReplyToUser=None, mentionedUsers=None, coordinates=None, place=None, hashtags=['مهسا_امینی', 'اتحاد_رمز_پیروزی', 'زن_زندگی_آزادی'], cashtags=None, card=None, viewCount=540203, vibe=None), inReplyToTweetId=None, inReplyToUser=None, mentionedUsers=None, coordinates=None, place=None, hashtags=['مهسا_امینی', 'اتحاد_رمز_پیروزی', 'زن_زندگی_آزادی', 'ali_karimi', 'alikarimi_ak8'], cashtags=None, card=None, viewCount=24, vibe=None)"
            ]
          },
          "metadata": {},
          "execution_count": 9
        }
      ]
    },
    {
      "cell_type": "code",
      "source": [
        "type(tweet)"
      ],
      "metadata": {
        "colab": {
          "base_uri": "https://localhost:8080/"
        },
        "id": "xOMLg96sLLXg",
        "outputId": "50a5f562-19df-465a-eefa-f773f5f8fcab"
      },
      "execution_count": null,
      "outputs": [
        {
          "output_type": "execute_result",
          "data": {
            "text/plain": [
              "snscrape.modules.twitter.Tweet"
            ]
          },
          "metadata": {},
          "execution_count": 28
        }
      ]
    },
    {
      "cell_type": "code",
      "source": [
        "scraper = sntwitter.TwitterSearchScraper(\"#ali_karimi\")\n",
        "\n",
        "tweets=[]\n",
        "\n",
        "for i,tweet in enumerate(scraper.get_items()):\n",
        "\n",
        "    data = [tweet.date\n",
        "            , tweet.id\n",
        "            , tweet.rawContent\n",
        "            , tweet.user.username\n",
        "            , tweet.likeCount \n",
        "            , tweet.retweetCount]\n",
        "    tweets.append(data)\n",
        "    if i > 50:\n",
        "      break"
      ],
      "metadata": {
        "id": "qg3b-4weLONR"
      },
      "execution_count": null,
      "outputs": []
    },
    {
      "cell_type": "code",
      "source": [
        "tweets[10]"
      ],
      "metadata": {
        "colab": {
          "base_uri": "https://localhost:8080/"
        },
        "id": "BfKUMANaMpX_",
        "outputId": "a1ed5dc7-37fb-41ad-f272-09f213452c72"
      },
      "execution_count": null,
      "outputs": [
        {
          "output_type": "execute_result",
          "data": {
            "text/plain": [
              "[datetime.datetime(2023, 1, 27, 7, 56, 35, tzinfo=datetime.timezone.utc),\n",
              " 1618880633509650434,\n",
              " 'Meeting #AbbasDehghan @ his release from jail, 2 other Dervish #Ali_Karimi #MohsenAzizi mins after separating from the group have gone missing with their phones off.  #SayTheirNames',\n",
              " 'Shabnam_3',\n",
              " 1,\n",
              " 0]"
            ]
          },
          "metadata": {},
          "execution_count": 39
        }
      ]
    },
    {
      "cell_type": "code",
      "source": [
        "frame=pd.DataFrame(tweets,columns=[\"date\",\"id\",\"content\",\"username\",\"likecount\",\"retweet\"])"
      ],
      "metadata": {
        "id": "5vaQ_LELMV5I"
      },
      "execution_count": null,
      "outputs": []
    },
    {
      "cell_type": "code",
      "source": [
        "frame.to_csv(\"alikarimi\",index=0)"
      ],
      "metadata": {
        "id": "T0LTU-CtO8ah"
      },
      "execution_count": null,
      "outputs": []
    }
  ]
}